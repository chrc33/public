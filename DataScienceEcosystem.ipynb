{
 "cells": [
  {
   "cell_type": "markdown",
   "id": "a565217d-bca6-4ff7-a5da-ea3ca7a8e680",
   "metadata": {},
   "source": [
    "# Data Science Tools and Ecosystem"
   ]
  },
  {
   "cell_type": "markdown",
   "id": "2ab16446-6254-4e0a-b85b-edf1a7531a57",
   "metadata": {},
   "source": [
    "In this notebook, Data Science Tools and Ecosystem are summarized."
   ]
  },
  {
   "cell_type": "markdown",
   "id": "f4f7255c-6fb7-4b4b-b059-40cc54d679b7",
   "metadata": {},
   "source": [
    "**Objectives:**\n",
    "1. Some of the popular languages that Data Scientists use are\n",
    "2. Some of the commonly used libraries used by Data Scientists include\n",
    "3. Data Science Tools"
   ]
  },
  {
   "cell_type": "markdown",
   "id": "36e8977d-703f-4bbe-8890-dff05841c195",
   "metadata": {},
   "source": [
    "Some of the popular languages that Data Scientists use are:\n",
    "1. python\n",
    "2. R\n",
    "3. SQL"
   ]
  },
  {
   "cell_type": "markdown",
   "id": "5ff8c30f-3069-46da-b71b-49aeaf3f0124",
   "metadata": {},
   "source": [
    "Some of the commonly used libraries used by Data Scientists include:\n",
    "1. NumPy\n",
    "2. Pandas\n",
    "3. Matplotlib"
   ]
  },
  {
   "cell_type": "markdown",
   "id": "364c4d6c-8b34-4b3b-8a6d-e9f2cdf381b7",
   "metadata": {},
   "source": [
    "Data Science Tools\n",
    "1. Hadoop\n",
    "2. Apache spark\n",
    "3. Anaconda Navicator\n"
   ]
  },
  {
   "cell_type": "markdown",
   "id": "eadbbe53-05a9-4b6e-ad44-422f02b92c82",
   "metadata": {},
   "source": [
    "### Below are a few examples of evaluating arithmetic expressions in Python"
   ]
  },
  {
   "cell_type": "code",
   "execution_count": 7,
   "id": "aed05ba3-ac1d-4684-a16e-4d43f3b2350c",
   "metadata": {},
   "outputs": [
    {
     "data": {
      "text/plain": [
       "17"
      ]
     },
     "execution_count": 7,
     "metadata": {},
     "output_type": "execute_result"
    }
   ],
   "source": [
    "# This a simple arithmetic expression to multiply then add integers\n",
    "(3*4)+5"
   ]
  },
  {
   "cell_type": "code",
   "execution_count": 8,
   "id": "5816b375-4380-4a2a-89d7-5da0f4716714",
   "metadata": {},
   "outputs": [
    {
     "data": {
      "text/plain": [
       "3.3333333333333335"
      ]
     },
     "execution_count": 8,
     "metadata": {},
     "output_type": "execute_result"
    }
   ],
   "source": [
    "#  This will convert 200 minutes to hours by diving by 60\n",
    "200/60"
   ]
  },
  {
   "cell_type": "markdown",
   "id": "e986c980-5b11-4a33-8b24-a0a78e9449bc",
   "metadata": {},
   "source": [
    "## Author\n",
    "Χρίστος Κωνσταντίνου"
   ]
  }
 ],
 "metadata": {
  "kernelspec": {
   "display_name": "Python 3 (ipykernel)",
   "language": "python",
   "name": "python3"
  },
  "language_info": {
   "codemirror_mode": {
    "name": "ipython",
    "version": 3
   },
   "file_extension": ".py",
   "mimetype": "text/x-python",
   "name": "python",
   "nbconvert_exporter": "python",
   "pygments_lexer": "ipython3",
   "version": "3.11.7"
  }
 },
 "nbformat": 4,
 "nbformat_minor": 5
}
